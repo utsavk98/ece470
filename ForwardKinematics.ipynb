{
 "cells": [
  {
   "cell_type": "code",
   "execution_count": 1,
   "metadata": {
    "collapsed": true
   },
   "outputs": [],
   "source": [
    "import vrep\n",
    "import time\n",
    "import numpy as np\n",
    "from scipy import linalg\n",
    "import math"
   ]
  },
  {
   "cell_type": "markdown",
   "metadata": {},
   "source": [
    "# Forward Kinematics"
   ]
  },
  {
   "cell_type": "code",
   "execution_count": 2,
   "metadata": {
    "collapsed": true
   },
   "outputs": [],
   "source": [
    "def skew(m):\n",
    "    return np.array([[0 ,-m[2], m[1]],[m[2], 0, -m[0]], [-m[1], m[0], 0]])\n"
   ]
  },
  {
   "cell_type": "code",
   "execution_count": 3,
   "metadata": {
    "collapsed": true
   },
   "outputs": [],
   "source": [
    "def revolute(a,q):\n",
    "    ab = skew(a)\n",
    "    bottom = -1*np.dot(ab,q)\n",
    "    return np.array([[a[0]],[a[1]],[a[2]],[bottom[0]],[bottom[1]],[bottom[2]]])"
   ]
  },
  {
   "cell_type": "code",
   "execution_count": 4,
   "metadata": {
    "collapsed": true
   },
   "outputs": [],
   "source": [
    "def brack6(a):\n",
    "    ws = a[:3]\n",
    "    vs = a[3:]\n",
    "    wb = skew(ws)\n",
    "    ans = np.array([[wb[0,0], wb[0,1], wb[0,2], vs[0]],[wb[1,0], wb[1,1], wb[1,2], vs[1]],[wb[2,0], wb[2,1], wb[2,2], vs[2]], [0,0,0,0]])\n",
    "    return ans"
   ]
  },
  {
   "cell_type": "code",
   "execution_count": 5,
   "metadata": {
    "collapsed": true
   },
   "outputs": [],
   "source": [
    "def adj(a):\n",
    "    R = np.array(a[:3,:3])\n",
    "    p = np.array(a[:3,3])\n",
    "    ret_top = np.hstack((R, np.zeros((3,3))))\n",
    "    ret_bottom = np.hstack((skew(p).dot(R), R))\n",
    "    ret = np.vstack((ret_top,ret_bottom))\n",
    "    return ret"
   ]
  },
  {
   "cell_type": "code",
   "execution_count": 6,
   "metadata": {
    "collapsed": true
   },
   "outputs": [],
   "source": [
    "# Calculates rotation matrix to euler angles\n",
    "# The result is the same as MATLAB except the order\n",
    "# of the euler angles ( x and z are swapped ).\n",
    "def rotationMatrixToEulerAngles(R) :     \n",
    "    sy = math.sqrt(R[0,0] * R[0,0] +  R[1,0] * R[1,0])\n",
    "     \n",
    "    singular = sy < 1e-6\n",
    " \n",
    "    if  not singular :\n",
    "        x = math.atan2(R[2,1] , R[2,2])\n",
    "        y = math.atan2(-R[2,0], sy)\n",
    "        z = math.atan2(R[1,0], R[0,0])\n",
    "    else :\n",
    "        x = math.atan2(-R[1,2], R[1,1])\n",
    "        y = math.atan2(-R[2,0], sy)\n",
    "        z = 0\n",
    " \n",
    "    return np.array([x, y, z])"
   ]
  },
  {
   "cell_type": "code",
   "execution_count": 7,
   "metadata": {
    "collapsed": true
   },
   "outputs": [],
   "source": [
    "def eulerAnglesToRotationMatrix(theta) :\n",
    "     \n",
    "    R_x = np.array([[1,         0,                  0                   ],\n",
    "                    [0,         math.cos(theta[0]), -math.sin(theta[0]) ],\n",
    "                    [0,         math.sin(theta[0]), math.cos(theta[0])  ]\n",
    "                    ])\n",
    "         \n",
    "         \n",
    "                     \n",
    "    R_y = np.array([[math.cos(theta[1]),    0,      math.sin(theta[1])  ],\n",
    "                    [0,                     1,      0                   ],\n",
    "                    [-math.sin(theta[1]),   0,      math.cos(theta[1])  ]\n",
    "                    ])\n",
    "                 \n",
    "    R_z = np.array([[math.cos(theta[2]),    -math.sin(theta[2]),    0],\n",
    "                    [math.sin(theta[2]),    math.cos(theta[2]),     0],\n",
    "                    [0,                     0,                      1]\n",
    "                    ])\n",
    "                     \n",
    "                     \n",
    "    R = np.dot(R_z, np.dot( R_y, R_x ))\n",
    " \n",
    "    return R"
   ]
  },
  {
   "cell_type": "code",
   "execution_count": 8,
   "metadata": {
    "collapsed": true
   },
   "outputs": [],
   "source": [
    "def forward_kinematics(theta):\n",
    "    \n",
    "    a0 = np.array([0,0,1])\n",
    "    q0 = np.array([0,0,0.1045])\n",
    "    \n",
    "    a1 = np.array([-1,0,0])\n",
    "    q1 = np.array([-0.115,0,0.1089])\n",
    "    \n",
    "    a2 = np.array([-1,0,0])\n",
    "    q2 = np.array([-0.115,0,0.3525])\n",
    "    \n",
    "    a3 = np.array([-1,0,0]) #Not bad here\n",
    "    q3 = np.array([-0.115,0,0.5658])\n",
    "    \n",
    "    a4 = np.array([0,0,1]) #this joint also doesn't look bad\n",
    "    q4 = np.array([-0.112,0,0.65])\n",
    "    \n",
    "    a5 = np.array([-1,0,0])  #this doesn't look bad, but hard to tell with this joint\n",
    "    q5 = np.array([-0.11,0,0.6511])\n",
    "    \n",
    "    \n",
    "    M = np.array([[0,0,-1, -0.1940], [0,1,0,0], [1,0,0,0.6511], [0,0,0,1]])\n",
    "    \n",
    "    axis = [a0,a1,a2,a3,a4,a5]\n",
    "    point = [q0,q1,q2,q3,q4,q5]\n",
    "    \n",
    "    screw = [revolute(axis[a],point[a]) for a in range(len(axis))]\n",
    "    \n",
    "    exp = [linalg.expm(brack6(screw[s])*theta[s]) for s in range (len(screw))]\n",
    "    \n",
    "    ex_multiplied = np.identity(4)\n",
    "    for i in exp:\n",
    "        ex_multiplied = ex_multiplied.dot(i)\n",
    "    T = ex_multiplied.dot(M)\n",
    "    return T"
   ]
  },
  {
   "cell_type": "code",
   "execution_count": 22,
   "metadata": {
    "collapsed": true
   },
   "outputs": [],
   "source": [
    "def inverse_kinematics(T):\n",
    "    a0 = np.array([0,0,1])\n",
    "    q0 = np.array([0,0,0.1045])\n",
    "    \n",
    "    a1 = np.array([-1,0,0])\n",
    "    q1 = np.array([-0.115,0,0.1089])\n",
    "    \n",
    "    a2 = np.array([-1,0,0])\n",
    "    q2 = np.array([-0.115,0,0.3525])\n",
    "    \n",
    "    a3 = np.array([-1,0,0]) #Not bad here\n",
    "    q3 = np.array([-0.115,0,0.5658])\n",
    "    \n",
    "    a4 = np.array([0,0,1]) #this joint also doesn't look bad\n",
    "    q4 = np.array([-0.112,0,0.65])\n",
    "    \n",
    "    a5 = np.array([-1,0,0])  #this doesn't look bad, but hard to tell with this joint\n",
    "    q5 = np.array([-0.11,0,0.6511])\n",
    "    \n",
    "    \n",
    "    M = np.array([[0,0,-1, -0.1940], [0,1,0,0], [1,0,0,0.6511], [0,0,0,1]])\n",
    "    \n",
    "    axis = [a0,a1,a2,a3,a4,a5]\n",
    "    point = [q0,q1,q2,q3,q4,q5]\n",
    "    \n",
    "    screw = [revolute(axis[a],point[a]) for a in range(len(axis))]\n",
    "    \n",
    "    theta = np.repeat(np.pi/4,6).reshape(6,1)\n",
    "    tolerance = 0.1\n",
    "    error = 20\n",
    "        \n",
    "    while (error > tolerance):\n",
    "        exp = [linalg.expm(brack6(screw[s])*theta[s]) for s in range(len(screw))]\n",
    "        Tc = np.identity(4)\n",
    "        for i in exp:\n",
    "            Tc = Tc.dot(i)\n",
    "        Tc = Tc.dot(M)\n",
    "        vb = linalg.logm(T.dot(np.linalg.inv(Tc)))\n",
    "        v = np.array([vb[2,1],vb[0,2],vb[1,0],vb[0,3],vb[1,3],vb[2,3]]).reshape(6,1)\n",
    "        \n",
    "        jacobian = []\n",
    "        jacobian.append(screw[0])\n",
    "        j = np.identity(4)\n",
    "        for i in range(len(exp)-1):\n",
    "            j = j.dot(exp[i])\n",
    "            jacobian.append(adj(j).dot(screw[i+1]))\n",
    "            \n",
    "        space = np.hstack((i for i in jacobian))\n",
    "        \n",
    "        thetadot = (np.linalg.inv(np.add(np.transpose(space).dot(space),0.1*np.eye(6)))).dot(np.transpose(space).dot(v))\n",
    "        theta = np.add(theta,thetadot)\n",
    "        n = np.linalg.norm(v)\n",
    "        error = abs(n)\n",
    "    return theta   "
   ]
  },
  {
   "cell_type": "code",
   "execution_count": 10,
   "metadata": {
    "collapsed": true
   },
   "outputs": [],
   "source": [
    "a = np.array([1,2,3])\n",
    "q = np.array([4,5,6])\n",
    "rev = revolute(a,q)\n",
    "\n",
    "theta = np.array([1,1,1,1,1,1])"
   ]
  },
  {
   "cell_type": "code",
   "execution_count": 23,
   "metadata": {},
   "outputs": [
    {
     "name": "stdout",
     "output_type": "stream",
     "text": [
      "(0.5235987755982988, 1.5707963267948966, 0, 0.7853981633974483, -0.7853981633974483, 3.141592653589793)\n",
      "[[ 0.35355339 -0.86237244 -0.36237244 -0.38531749]\n",
      " [-0.61237244  0.07945931 -0.78656609  0.32742396]\n",
      " [ 0.70710678  0.5        -0.5         0.00758379]\n",
      " [ 0.          0.          0.          1.        ]]\n"
     ]
    },
    {
     "ename": "KeyboardInterrupt",
     "evalue": "",
     "output_type": "error",
     "traceback": [
      "\u001b[1;31m---------------------------------------------------------------------------\u001b[0m",
      "\u001b[1;31mKeyboardInterrupt\u001b[0m                         Traceback (most recent call last)",
      "\u001b[1;32m<ipython-input-23-aefe65a6ac94>\u001b[0m in \u001b[0;36m<module>\u001b[1;34m()\u001b[0m\n\u001b[0;32m     36\u001b[0m \u001b[0mvrep\u001b[0m\u001b[1;33m.\u001b[0m\u001b[0msimxSetObjectOrientation\u001b[0m\u001b[1;33m(\u001b[0m\u001b[0mclientID\u001b[0m\u001b[1;33m,\u001b[0m\u001b[0mdummyhandle\u001b[0m\u001b[1;33m,\u001b[0m\u001b[1;33m-\u001b[0m\u001b[1;36m1\u001b[0m\u001b[1;33m,\u001b[0m\u001b[1;33m(\u001b[0m\u001b[0meuler\u001b[0m\u001b[1;33m[\u001b[0m\u001b[1;36m0\u001b[0m\u001b[1;33m]\u001b[0m\u001b[1;33m,\u001b[0m\u001b[0meuler\u001b[0m\u001b[1;33m[\u001b[0m\u001b[1;36m1\u001b[0m\u001b[1;33m]\u001b[0m\u001b[1;33m,\u001b[0m\u001b[0meuler\u001b[0m\u001b[1;33m[\u001b[0m\u001b[1;36m2\u001b[0m\u001b[1;33m]\u001b[0m\u001b[1;33m)\u001b[0m\u001b[1;33m,\u001b[0m\u001b[0mvrep\u001b[0m\u001b[1;33m.\u001b[0m\u001b[0msimx_opmode_oneshot\u001b[0m\u001b[1;33m)\u001b[0m\u001b[1;33m\u001b[0m\u001b[0m\n\u001b[0;32m     37\u001b[0m \u001b[1;33m\u001b[0m\u001b[0m\n\u001b[1;32m---> 38\u001b[1;33m \u001b[0mtheta\u001b[0m \u001b[1;33m=\u001b[0m \u001b[0minverse_kinematics\u001b[0m\u001b[1;33m(\u001b[0m\u001b[0mT\u001b[0m\u001b[1;33m)\u001b[0m\u001b[1;33m.\u001b[0m\u001b[0mreshape\u001b[0m\u001b[1;33m(\u001b[0m\u001b[1;36m1\u001b[0m\u001b[1;33m,\u001b[0m\u001b[1;36m6\u001b[0m\u001b[1;33m)\u001b[0m\u001b[1;33m[\u001b[0m\u001b[1;36m0\u001b[0m\u001b[1;33m]\u001b[0m\u001b[1;33m\u001b[0m\u001b[0m\n\u001b[0m\u001b[0;32m     39\u001b[0m \u001b[0mtheta\u001b[0m \u001b[1;33m=\u001b[0m \u001b[1;33m[\u001b[0m\u001b[0mi\u001b[0m \u001b[1;33m%\u001b[0m \u001b[1;33m(\u001b[0m\u001b[1;36m2\u001b[0m\u001b[1;33m*\u001b[0m\u001b[0mnp\u001b[0m\u001b[1;33m.\u001b[0m\u001b[0mpi\u001b[0m\u001b[1;33m)\u001b[0m \u001b[1;32mfor\u001b[0m \u001b[0mi\u001b[0m \u001b[1;32min\u001b[0m \u001b[0mtheta\u001b[0m\u001b[1;33m]\u001b[0m\u001b[1;33m\u001b[0m\u001b[0m\n\u001b[0;32m     40\u001b[0m \u001b[0mprint\u001b[0m \u001b[1;33m(\u001b[0m\u001b[0mtheta\u001b[0m\u001b[1;33m)\u001b[0m\u001b[1;33m\u001b[0m\u001b[0m\n",
      "\u001b[1;32m<ipython-input-22-af4a1e72b01d>\u001b[0m in \u001b[0;36minverse_kinematics\u001b[1;34m(T)\u001b[0m\n\u001b[0;32m     36\u001b[0m             \u001b[0mTc\u001b[0m \u001b[1;33m=\u001b[0m \u001b[0mTc\u001b[0m\u001b[1;33m.\u001b[0m\u001b[0mdot\u001b[0m\u001b[1;33m(\u001b[0m\u001b[0mi\u001b[0m\u001b[1;33m)\u001b[0m\u001b[1;33m\u001b[0m\u001b[0m\n\u001b[0;32m     37\u001b[0m         \u001b[0mTc\u001b[0m \u001b[1;33m=\u001b[0m \u001b[0mTc\u001b[0m\u001b[1;33m.\u001b[0m\u001b[0mdot\u001b[0m\u001b[1;33m(\u001b[0m\u001b[0mM\u001b[0m\u001b[1;33m)\u001b[0m\u001b[1;33m\u001b[0m\u001b[0m\n\u001b[1;32m---> 38\u001b[1;33m         \u001b[0mvb\u001b[0m \u001b[1;33m=\u001b[0m \u001b[0mlinalg\u001b[0m\u001b[1;33m.\u001b[0m\u001b[0mlogm\u001b[0m\u001b[1;33m(\u001b[0m\u001b[0mT\u001b[0m\u001b[1;33m.\u001b[0m\u001b[0mdot\u001b[0m\u001b[1;33m(\u001b[0m\u001b[0mnp\u001b[0m\u001b[1;33m.\u001b[0m\u001b[0mlinalg\u001b[0m\u001b[1;33m.\u001b[0m\u001b[0minv\u001b[0m\u001b[1;33m(\u001b[0m\u001b[0mTc\u001b[0m\u001b[1;33m)\u001b[0m\u001b[1;33m)\u001b[0m\u001b[1;33m)\u001b[0m\u001b[1;33m\u001b[0m\u001b[0m\n\u001b[0m\u001b[0;32m     39\u001b[0m         \u001b[0mv\u001b[0m \u001b[1;33m=\u001b[0m \u001b[0mnp\u001b[0m\u001b[1;33m.\u001b[0m\u001b[0marray\u001b[0m\u001b[1;33m(\u001b[0m\u001b[1;33m[\u001b[0m\u001b[0mvb\u001b[0m\u001b[1;33m[\u001b[0m\u001b[1;36m2\u001b[0m\u001b[1;33m,\u001b[0m\u001b[1;36m1\u001b[0m\u001b[1;33m]\u001b[0m\u001b[1;33m,\u001b[0m\u001b[0mvb\u001b[0m\u001b[1;33m[\u001b[0m\u001b[1;36m0\u001b[0m\u001b[1;33m,\u001b[0m\u001b[1;36m2\u001b[0m\u001b[1;33m]\u001b[0m\u001b[1;33m,\u001b[0m\u001b[0mvb\u001b[0m\u001b[1;33m[\u001b[0m\u001b[1;36m1\u001b[0m\u001b[1;33m,\u001b[0m\u001b[1;36m0\u001b[0m\u001b[1;33m]\u001b[0m\u001b[1;33m,\u001b[0m\u001b[0mvb\u001b[0m\u001b[1;33m[\u001b[0m\u001b[1;36m0\u001b[0m\u001b[1;33m,\u001b[0m\u001b[1;36m3\u001b[0m\u001b[1;33m]\u001b[0m\u001b[1;33m,\u001b[0m\u001b[0mvb\u001b[0m\u001b[1;33m[\u001b[0m\u001b[1;36m1\u001b[0m\u001b[1;33m,\u001b[0m\u001b[1;36m3\u001b[0m\u001b[1;33m]\u001b[0m\u001b[1;33m,\u001b[0m\u001b[0mvb\u001b[0m\u001b[1;33m[\u001b[0m\u001b[1;36m2\u001b[0m\u001b[1;33m,\u001b[0m\u001b[1;36m3\u001b[0m\u001b[1;33m]\u001b[0m\u001b[1;33m]\u001b[0m\u001b[1;33m)\u001b[0m\u001b[1;33m.\u001b[0m\u001b[0mreshape\u001b[0m\u001b[1;33m(\u001b[0m\u001b[1;36m6\u001b[0m\u001b[1;33m,\u001b[0m\u001b[1;36m1\u001b[0m\u001b[1;33m)\u001b[0m\u001b[1;33m\u001b[0m\u001b[0m\n\u001b[0;32m     40\u001b[0m \u001b[1;33m\u001b[0m\u001b[0m\n",
      "\u001b[1;32m~\\Anaconda3\\lib\\site-packages\\scipy\\linalg\\matfuncs.py\u001b[0m in \u001b[0;36mlogm\u001b[1;34m(A, disp)\u001b[0m\n\u001b[0;32m    198\u001b[0m     \u001b[1;31m# Avoid circular import ... this is OK, right?\u001b[0m\u001b[1;33m\u001b[0m\u001b[1;33m\u001b[0m\u001b[0m\n\u001b[0;32m    199\u001b[0m     \u001b[1;32mimport\u001b[0m \u001b[0mscipy\u001b[0m\u001b[1;33m.\u001b[0m\u001b[0mlinalg\u001b[0m\u001b[1;33m.\u001b[0m\u001b[0m_matfuncs_inv_ssq\u001b[0m\u001b[1;33m\u001b[0m\u001b[0m\n\u001b[1;32m--> 200\u001b[1;33m     \u001b[0mF\u001b[0m \u001b[1;33m=\u001b[0m \u001b[0mscipy\u001b[0m\u001b[1;33m.\u001b[0m\u001b[0mlinalg\u001b[0m\u001b[1;33m.\u001b[0m\u001b[0m_matfuncs_inv_ssq\u001b[0m\u001b[1;33m.\u001b[0m\u001b[0m_logm\u001b[0m\u001b[1;33m(\u001b[0m\u001b[0mA\u001b[0m\u001b[1;33m)\u001b[0m\u001b[1;33m\u001b[0m\u001b[0m\n\u001b[0m\u001b[0;32m    201\u001b[0m     \u001b[0mF\u001b[0m \u001b[1;33m=\u001b[0m \u001b[0m_maybe_real\u001b[0m\u001b[1;33m(\u001b[0m\u001b[0mA\u001b[0m\u001b[1;33m,\u001b[0m \u001b[0mF\u001b[0m\u001b[1;33m)\u001b[0m\u001b[1;33m\u001b[0m\u001b[0m\n\u001b[0;32m    202\u001b[0m     \u001b[0merrtol\u001b[0m \u001b[1;33m=\u001b[0m \u001b[1;36m1000\u001b[0m\u001b[1;33m*\u001b[0m\u001b[0meps\u001b[0m\u001b[1;33m\u001b[0m\u001b[0m\n",
      "\u001b[1;32m~\\Anaconda3\\lib\\site-packages\\scipy\\linalg\\_matfuncs_inv_ssq.py\u001b[0m in \u001b[0;36m_logm\u001b[1;34m(A)\u001b[0m\n\u001b[0;32m    880\u001b[0m                 \u001b[0mT\u001b[0m\u001b[1;33m,\u001b[0m \u001b[0mZ\u001b[0m \u001b[1;33m=\u001b[0m \u001b[0mschur\u001b[0m\u001b[1;33m(\u001b[0m\u001b[0mA\u001b[0m\u001b[1;33m,\u001b[0m \u001b[0moutput\u001b[0m\u001b[1;33m=\u001b[0m\u001b[1;34m'complex'\u001b[0m\u001b[1;33m)\u001b[0m\u001b[1;33m\u001b[0m\u001b[0m\n\u001b[0;32m    881\u001b[0m             \u001b[0mT\u001b[0m \u001b[1;33m=\u001b[0m \u001b[0m_logm_force_nonsingular_triangular_matrix\u001b[0m\u001b[1;33m(\u001b[0m\u001b[0mT\u001b[0m\u001b[1;33m,\u001b[0m \u001b[0minplace\u001b[0m\u001b[1;33m=\u001b[0m\u001b[1;32mTrue\u001b[0m\u001b[1;33m)\u001b[0m\u001b[1;33m\u001b[0m\u001b[0m\n\u001b[1;32m--> 882\u001b[1;33m             \u001b[0mU\u001b[0m \u001b[1;33m=\u001b[0m \u001b[0m_logm_triu\u001b[0m\u001b[1;33m(\u001b[0m\u001b[0mT\u001b[0m\u001b[1;33m)\u001b[0m\u001b[1;33m\u001b[0m\u001b[0m\n\u001b[0m\u001b[0;32m    883\u001b[0m             \u001b[0mZH\u001b[0m \u001b[1;33m=\u001b[0m \u001b[0mnp\u001b[0m\u001b[1;33m.\u001b[0m\u001b[0mconjugate\u001b[0m\u001b[1;33m(\u001b[0m\u001b[0mZ\u001b[0m\u001b[1;33m)\u001b[0m\u001b[1;33m.\u001b[0m\u001b[0mT\u001b[0m\u001b[1;33m\u001b[0m\u001b[0m\n\u001b[0;32m    884\u001b[0m             \u001b[1;32mreturn\u001b[0m \u001b[0mZ\u001b[0m\u001b[1;33m.\u001b[0m\u001b[0mdot\u001b[0m\u001b[1;33m(\u001b[0m\u001b[0mU\u001b[0m\u001b[1;33m)\u001b[0m\u001b[1;33m.\u001b[0m\u001b[0mdot\u001b[0m\u001b[1;33m(\u001b[0m\u001b[0mZH\u001b[0m\u001b[1;33m)\u001b[0m\u001b[1;33m\u001b[0m\u001b[0m\n",
      "\u001b[1;32m~\\Anaconda3\\lib\\site-packages\\scipy\\linalg\\_matfuncs_inv_ssq.py\u001b[0m in \u001b[0;36m_logm_triu\u001b[1;34m(T)\u001b[0m\n\u001b[0;32m    777\u001b[0m             6.52e-1, 6.89e-1, 7.21e-1, 7.49e-1)\n\u001b[0;32m    778\u001b[0m \u001b[1;33m\u001b[0m\u001b[0m\n\u001b[1;32m--> 779\u001b[1;33m     \u001b[0mR\u001b[0m\u001b[1;33m,\u001b[0m \u001b[0ms\u001b[0m\u001b[1;33m,\u001b[0m \u001b[0mm\u001b[0m \u001b[1;33m=\u001b[0m \u001b[0m_inverse_squaring_helper\u001b[0m\u001b[1;33m(\u001b[0m\u001b[0mT0\u001b[0m\u001b[1;33m,\u001b[0m \u001b[0mtheta\u001b[0m\u001b[1;33m)\u001b[0m\u001b[1;33m\u001b[0m\u001b[0m\n\u001b[0m\u001b[0;32m    780\u001b[0m \u001b[1;33m\u001b[0m\u001b[0m\n\u001b[0;32m    781\u001b[0m     \u001b[1;31m# Evaluate U = 2**s r_m(T - I) using the partial fraction expansion (1.1).\u001b[0m\u001b[1;33m\u001b[0m\u001b[1;33m\u001b[0m\u001b[0m\n",
      "\u001b[1;32m~\\Anaconda3\\lib\\site-packages\\scipy\\linalg\\_matfuncs_inv_ssq.py\u001b[0m in \u001b[0;36m_inverse_squaring_helper\u001b[1;34m(T0, theta)\u001b[0m\n\u001b[0;32m    395\u001b[0m         \u001b[1;32mif\u001b[0m \u001b[0ms\u001b[0m \u001b[1;33m>\u001b[0m \u001b[0ms0\u001b[0m\u001b[1;33m:\u001b[0m\u001b[1;33m\u001b[0m\u001b[0m\n\u001b[0;32m    396\u001b[0m             \u001b[0md3\u001b[0m \u001b[1;33m=\u001b[0m \u001b[0m_onenormest_m1_power\u001b[0m\u001b[1;33m(\u001b[0m\u001b[0mT\u001b[0m\u001b[1;33m,\u001b[0m \u001b[1;36m3\u001b[0m\u001b[1;33m)\u001b[0m \u001b[1;33m**\u001b[0m \u001b[1;33m(\u001b[0m\u001b[1;36m1\u001b[0m\u001b[1;33m/\u001b[0m\u001b[1;36m3\u001b[0m\u001b[1;33m)\u001b[0m\u001b[1;33m\u001b[0m\u001b[0m\n\u001b[1;32m--> 397\u001b[1;33m         \u001b[0md4\u001b[0m \u001b[1;33m=\u001b[0m \u001b[0m_onenormest_m1_power\u001b[0m\u001b[1;33m(\u001b[0m\u001b[0mT\u001b[0m\u001b[1;33m,\u001b[0m \u001b[1;36m4\u001b[0m\u001b[1;33m)\u001b[0m \u001b[1;33m**\u001b[0m \u001b[1;33m(\u001b[0m\u001b[1;36m1\u001b[0m\u001b[1;33m/\u001b[0m\u001b[1;36m4\u001b[0m\u001b[1;33m)\u001b[0m\u001b[1;33m\u001b[0m\u001b[0m\n\u001b[0m\u001b[0;32m    398\u001b[0m         \u001b[0ma3\u001b[0m \u001b[1;33m=\u001b[0m \u001b[0mmax\u001b[0m\u001b[1;33m(\u001b[0m\u001b[0md3\u001b[0m\u001b[1;33m,\u001b[0m \u001b[0md4\u001b[0m\u001b[1;33m)\u001b[0m\u001b[1;33m\u001b[0m\u001b[0m\n\u001b[0;32m    399\u001b[0m         \u001b[1;32mif\u001b[0m \u001b[0ma3\u001b[0m \u001b[1;33m<=\u001b[0m \u001b[0mtheta\u001b[0m\u001b[1;33m[\u001b[0m\u001b[1;36m7\u001b[0m\u001b[1;33m]\u001b[0m\u001b[1;33m:\u001b[0m\u001b[1;33m\u001b[0m\u001b[0m\n",
      "\u001b[1;32m~\\Anaconda3\\lib\\site-packages\\scipy\\linalg\\_matfuncs_inv_ssq.py\u001b[0m in \u001b[0;36m_onenormest_m1_power\u001b[1;34m(A, p, t, itmax, compute_v, compute_w)\u001b[0m\n\u001b[0;32m    112\u001b[0m     \"\"\"\n\u001b[0;32m    113\u001b[0m     return onenormest(_MatrixM1PowerOperator(A, p),\n\u001b[1;32m--> 114\u001b[1;33m             t=t, itmax=itmax, compute_v=compute_v, compute_w=compute_w)\n\u001b[0m\u001b[0;32m    115\u001b[0m \u001b[1;33m\u001b[0m\u001b[0m\n\u001b[0;32m    116\u001b[0m \u001b[1;33m\u001b[0m\u001b[0m\n",
      "\u001b[1;32m~\\Anaconda3\\lib\\site-packages\\scipy\\sparse\\linalg\\_onenormest.py\u001b[0m in \u001b[0;36monenormest\u001b[1;34m(A, t, itmax, compute_v, compute_w)\u001b[0m\n\u001b[0;32m     93\u001b[0m         \u001b[0mest\u001b[0m \u001b[1;33m=\u001b[0m \u001b[0mcol_abs_sums\u001b[0m\u001b[1;33m[\u001b[0m\u001b[0margmax_j\u001b[0m\u001b[1;33m]\u001b[0m\u001b[1;33m\u001b[0m\u001b[0m\n\u001b[0;32m     94\u001b[0m     \u001b[1;32melse\u001b[0m\u001b[1;33m:\u001b[0m\u001b[1;33m\u001b[0m\u001b[0m\n\u001b[1;32m---> 95\u001b[1;33m         \u001b[0mest\u001b[0m\u001b[1;33m,\u001b[0m \u001b[0mv\u001b[0m\u001b[1;33m,\u001b[0m \u001b[0mw\u001b[0m\u001b[1;33m,\u001b[0m \u001b[0mnmults\u001b[0m\u001b[1;33m,\u001b[0m \u001b[0mnresamples\u001b[0m \u001b[1;33m=\u001b[0m \u001b[0m_onenormest_core\u001b[0m\u001b[1;33m(\u001b[0m\u001b[0mA\u001b[0m\u001b[1;33m,\u001b[0m \u001b[0mA\u001b[0m\u001b[1;33m.\u001b[0m\u001b[0mH\u001b[0m\u001b[1;33m,\u001b[0m \u001b[0mt\u001b[0m\u001b[1;33m,\u001b[0m \u001b[0mitmax\u001b[0m\u001b[1;33m)\u001b[0m\u001b[1;33m\u001b[0m\u001b[0m\n\u001b[0m\u001b[0;32m     96\u001b[0m \u001b[1;33m\u001b[0m\u001b[0m\n\u001b[0;32m     97\u001b[0m     \u001b[1;31m# Report the norm estimate along with some certificates of the estimate.\u001b[0m\u001b[1;33m\u001b[0m\u001b[1;33m\u001b[0m\u001b[0m\n",
      "\u001b[1;32m~\\Anaconda3\\lib\\site-packages\\scipy\\sparse\\linalg\\_onenormest.py\u001b[0m in \u001b[0;36m_onenormest_core\u001b[1;34m(A, AT, t, itmax)\u001b[0m\n\u001b[0;32m    394\u001b[0m         \u001b[0mnmults\u001b[0m \u001b[1;33m+=\u001b[0m \u001b[1;36m1\u001b[0m\u001b[1;33m\u001b[0m\u001b[0m\n\u001b[0;32m    395\u001b[0m         \u001b[0mmags\u001b[0m \u001b[1;33m=\u001b[0m \u001b[0m_sum_abs_axis0\u001b[0m\u001b[1;33m(\u001b[0m\u001b[0mY\u001b[0m\u001b[1;33m)\u001b[0m\u001b[1;33m\u001b[0m\u001b[0m\n\u001b[1;32m--> 396\u001b[1;33m         \u001b[0mest\u001b[0m \u001b[1;33m=\u001b[0m \u001b[0mnp\u001b[0m\u001b[1;33m.\u001b[0m\u001b[0mmax\u001b[0m\u001b[1;33m(\u001b[0m\u001b[0mmags\u001b[0m\u001b[1;33m)\u001b[0m\u001b[1;33m\u001b[0m\u001b[0m\n\u001b[0m\u001b[0;32m    397\u001b[0m         \u001b[0mbest_j\u001b[0m \u001b[1;33m=\u001b[0m \u001b[0mnp\u001b[0m\u001b[1;33m.\u001b[0m\u001b[0margmax\u001b[0m\u001b[1;33m(\u001b[0m\u001b[0mmags\u001b[0m\u001b[1;33m)\u001b[0m\u001b[1;33m\u001b[0m\u001b[0m\n\u001b[0;32m    398\u001b[0m         \u001b[1;32mif\u001b[0m \u001b[0mest\u001b[0m \u001b[1;33m>\u001b[0m \u001b[0mest_old\u001b[0m \u001b[1;32mor\u001b[0m \u001b[0mk\u001b[0m \u001b[1;33m==\u001b[0m \u001b[1;36m2\u001b[0m\u001b[1;33m:\u001b[0m\u001b[1;33m\u001b[0m\u001b[0m\n",
      "\u001b[1;32m~\\Anaconda3\\lib\\site-packages\\numpy\\core\\fromnumeric.py\u001b[0m in \u001b[0;36mamax\u001b[1;34m(a, axis, out, keepdims)\u001b[0m\n\u001b[0;32m   2270\u001b[0m \u001b[1;33m\u001b[0m\u001b[0m\n\u001b[0;32m   2271\u001b[0m     return _methods._amax(a, axis=axis,\n\u001b[1;32m-> 2272\u001b[1;33m                           out=out, **kwargs)\n\u001b[0m\u001b[0;32m   2273\u001b[0m \u001b[1;33m\u001b[0m\u001b[0m\n\u001b[0;32m   2274\u001b[0m \u001b[1;33m\u001b[0m\u001b[0m\n",
      "\u001b[1;32m~\\Anaconda3\\lib\\site-packages\\numpy\\core\\_methods.py\u001b[0m in \u001b[0;36m_amax\u001b[1;34m(a, axis, out, keepdims)\u001b[0m\n\u001b[0;32m     24\u001b[0m \u001b[1;31m# small reductions\u001b[0m\u001b[1;33m\u001b[0m\u001b[1;33m\u001b[0m\u001b[0m\n\u001b[0;32m     25\u001b[0m \u001b[1;32mdef\u001b[0m \u001b[0m_amax\u001b[0m\u001b[1;33m(\u001b[0m\u001b[0ma\u001b[0m\u001b[1;33m,\u001b[0m \u001b[0maxis\u001b[0m\u001b[1;33m=\u001b[0m\u001b[1;32mNone\u001b[0m\u001b[1;33m,\u001b[0m \u001b[0mout\u001b[0m\u001b[1;33m=\u001b[0m\u001b[1;32mNone\u001b[0m\u001b[1;33m,\u001b[0m \u001b[0mkeepdims\u001b[0m\u001b[1;33m=\u001b[0m\u001b[1;32mFalse\u001b[0m\u001b[1;33m)\u001b[0m\u001b[1;33m:\u001b[0m\u001b[1;33m\u001b[0m\u001b[0m\n\u001b[1;32m---> 26\u001b[1;33m     \u001b[1;32mreturn\u001b[0m \u001b[0mumr_maximum\u001b[0m\u001b[1;33m(\u001b[0m\u001b[0ma\u001b[0m\u001b[1;33m,\u001b[0m \u001b[0maxis\u001b[0m\u001b[1;33m,\u001b[0m \u001b[1;32mNone\u001b[0m\u001b[1;33m,\u001b[0m \u001b[0mout\u001b[0m\u001b[1;33m,\u001b[0m \u001b[0mkeepdims\u001b[0m\u001b[1;33m)\u001b[0m\u001b[1;33m\u001b[0m\u001b[0m\n\u001b[0m\u001b[0;32m     27\u001b[0m \u001b[1;33m\u001b[0m\u001b[0m\n\u001b[0;32m     28\u001b[0m \u001b[1;32mdef\u001b[0m \u001b[0m_amin\u001b[0m\u001b[1;33m(\u001b[0m\u001b[0ma\u001b[0m\u001b[1;33m,\u001b[0m \u001b[0maxis\u001b[0m\u001b[1;33m=\u001b[0m\u001b[1;32mNone\u001b[0m\u001b[1;33m,\u001b[0m \u001b[0mout\u001b[0m\u001b[1;33m=\u001b[0m\u001b[1;32mNone\u001b[0m\u001b[1;33m,\u001b[0m \u001b[0mkeepdims\u001b[0m\u001b[1;33m=\u001b[0m\u001b[1;32mFalse\u001b[0m\u001b[1;33m)\u001b[0m\u001b[1;33m:\u001b[0m\u001b[1;33m\u001b[0m\u001b[0m\n",
      "\u001b[1;31mKeyboardInterrupt\u001b[0m: "
     ]
    }
   ],
   "source": [
    "vrep.simxFinish(-1)\n",
    "\n",
    "# Connect to V-REP (raise exception on failure)\n",
    "clientID = vrep.simxStart('127.0.0.1', 19997, True, True, 5000, 5)\n",
    "if clientID == -1:\n",
    "    raise Exception('Failed connecting to remote API server')\n",
    "    \n",
    "\n",
    "# Start simulation\n",
    "vrep.simxStartSimulation(clientID, vrep.simx_opmode_oneshot)\n",
    "\n",
    "# Wait two seconds\n",
    "time.sleep(2)\n",
    "\n",
    "\n",
    "result, joint_one_handle = vrep.simxGetObjectHandle(clientID, 'UR3_joint1', vrep.simx_opmode_blocking)\n",
    "result, joint_two_handle = vrep.simxGetObjectHandle(clientID, 'UR3_joint2', vrep.simx_opmode_blocking)\n",
    "result, joint_three_handle = vrep.simxGetObjectHandle(clientID, 'UR3_joint3', vrep.simx_opmode_blocking)\n",
    "result, joint_four_handle = vrep.simxGetObjectHandle(clientID, 'UR3_joint4', vrep.simx_opmode_blocking)\n",
    "result, joint_five_handle = vrep.simxGetObjectHandle(clientID, 'UR3_joint5', vrep.simx_opmode_blocking)\n",
    "result, joint_six_handle = vrep.simxGetObjectHandle(clientID, 'UR3_joint6', vrep.simx_opmode_blocking)\n",
    "result, suction_handle = vrep.simxGetObjectHandle(clientID, 'UR3_connection', vrep.simx_opmode_blocking)\n",
    "\n",
    "result, dummyhandle=vrep.simxCreateDummy(clientID,.04,(255,0,0),vrep.simx_opmode_blocking)\n",
    "\n",
    "joint_angles=(np.pi/6,np.pi/2,0,np.pi/4,-np.pi/4,np.pi)\n",
    "print (joint_angles)\n",
    "\n",
    "T = forward_kinematics(joint_angles)\n",
    "print (T)\n",
    "R = T[:3,:3]\n",
    "p = T[:3,3]\n",
    "euler = rotationMatrixToEulerAngles(R)\n",
    "\n",
    "vrep.simxSetObjectPosition(clientID,dummyhandle,-1,(p[0],p[1],p[2]),vrep.simx_opmode_oneshot)\n",
    "vrep.simxSetObjectOrientation(clientID,dummyhandle,-1,(euler[0],euler[1],euler[2]),vrep.simx_opmode_oneshot)\n",
    "\n",
    "theta = inverse_kinematics(T).reshape(1,6)[0]\n",
    "theta = [i % (2*np.pi) for i in theta]\n",
    "print (theta)\n",
    "time.sleep(2)\n",
    "vrep.simxPauseCommunication(clientID,True)\n",
    "vrep.simxSetJointTargetPosition(clientID, joint_one_handle, theta[0], vrep.simx_opmode_oneshot)\n",
    "vrep.simxSetJointTargetPosition(clientID, joint_two_handle, theta[1], vrep.simx_opmode_oneshot)\n",
    "vrep.simxSetJointTargetPosition(clientID, joint_three_handle, theta[2], vrep.simx_opmode_oneshot)\n",
    "vrep.simxSetJointTargetPosition(clientID, joint_four_handle, theta[3], vrep.simx_opmode_oneshot)\n",
    "vrep.simxSetJointTargetPosition(clientID, joint_five_handle, theta[4], vrep.simx_opmode_oneshot)\n",
    "vrep.simxSetJointTargetPosition(clientID, joint_six_handle, theta[5], vrep.simx_opmode_oneshot)\n",
    "vrep.simxPauseCommunication(clientID,False)\n",
    "    \n",
    "time.sleep(5)\n",
    "# Stop simulation\n",
    "vrep.simxStopSimulation(clientID, vrep.simx_opmode_oneshot)\n",
    "\n",
    "# Before closing the connection to V-REP, make sure that the last command sent out had time to arrive. You can guarantee this with (for example):\n",
    "vrep.simxGetPingTime(clientID)\n",
    "\n",
    "# Close the connection to V-REP\n",
    "vrep.simxFinish(clientID)\n"
   ]
  },
  {
   "cell_type": "code",
   "execution_count": null,
   "metadata": {
    "collapsed": true
   },
   "outputs": [],
   "source": []
  },
  {
   "cell_type": "code",
   "execution_count": null,
   "metadata": {
    "collapsed": true
   },
   "outputs": [],
   "source": []
  },
  {
   "cell_type": "code",
   "execution_count": null,
   "metadata": {
    "collapsed": true
   },
   "outputs": [],
   "source": []
  }
 ],
 "metadata": {
  "kernelspec": {
   "display_name": "Python 3",
   "language": "python",
   "name": "python3"
  },
  "language_info": {
   "codemirror_mode": {
    "name": "ipython",
    "version": 3
   },
   "file_extension": ".py",
   "mimetype": "text/x-python",
   "name": "python",
   "nbconvert_exporter": "python",
   "pygments_lexer": "ipython3",
   "version": "3.6.3"
  }
 },
 "nbformat": 4,
 "nbformat_minor": 2
}
