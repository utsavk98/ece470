{
 "cells": [
  {
   "cell_type": "code",
   "execution_count": 38,
   "metadata": {},
   "outputs": [],
   "source": [
    "import vrep\n",
    "import time\n",
    "import numpy as np\n",
    "from scipy import linalg\n",
    "import math"
   ]
  },
  {
   "cell_type": "markdown",
   "metadata": {},
   "source": [
    "# Forward Kinematics"
   ]
  },
  {
   "cell_type": "code",
   "execution_count": 39,
   "metadata": {},
   "outputs": [],
   "source": [
    "def skew(m):\n",
    "    return np.array([[0 ,-m[2], m[1]],[m[2], 0, -m[0]], [-m[1], m[0], 0]])\n"
   ]
  },
  {
   "cell_type": "code",
   "execution_count": 40,
   "metadata": {},
   "outputs": [],
   "source": [
    "def revolute(a,q):\n",
    "    ab = skew(a)\n",
    "    bottom = -1*np.dot(ab,q)\n",
    "    return np.array([[a[0]],[a[1]],[a[2]],[bottom[0]],[bottom[1]],[bottom[2]]])"
   ]
  },
  {
   "cell_type": "code",
   "execution_count": 41,
   "metadata": {},
   "outputs": [],
   "source": [
    "def brack6(a):\n",
    "    ws = a[:3]\n",
    "    vs = a[3:]\n",
    "    wb = skew(ws)\n",
    "    ans = np.array([[wb[0,0], wb[0,1], wb[0,2], vs[0]],[wb[1,0], wb[1,1], wb[1,2], vs[1]],[wb[2,0], wb[2,1], wb[2,2], vs[2]], [0,0,0,0]])\n",
    "    return ans"
   ]
  },
  {
   "cell_type": "code",
   "execution_count": 42,
   "metadata": {},
   "outputs": [],
   "source": [
    "# Calculates rotation matrix to euler angles\n",
    "# The result is the same as MATLAB except the order\n",
    "# of the euler angles ( x and z are swapped ).\n",
    "def rotationMatrixToEulerAngles(R) :     \n",
    "    sy = math.sqrt(R[0,0] * R[0,0] +  R[1,0] * R[1,0])\n",
    "     \n",
    "    singular = sy < 1e-6\n",
    " \n",
    "    if  not singular :\n",
    "        x = math.atan2(R[2,1] , R[2,2])\n",
    "        y = math.atan2(-R[2,0], sy)\n",
    "        z = math.atan2(R[1,0], R[0,0])\n",
    "    else :\n",
    "        x = math.atan2(-R[1,2], R[1,1])\n",
    "        y = math.atan2(-R[2,0], sy)\n",
    "        z = 0\n",
    " \n",
    "    return np.array([x, y, z])"
   ]
  },
  {
   "cell_type": "code",
   "execution_count": 88,
   "metadata": {},
   "outputs": [],
   "source": [
    "def forward_kinematics(theta):\n",
    "    \n",
    "    a0 = np.array([0,0,1])\n",
    "    q0 = np.array([0,0,0.152])\n",
    "    \n",
    "    a1 = np.array([-1,0,0])\n",
    "    q1 = np.array([-0.12,0,0.152])\n",
    "    \n",
    "    a2 = np.array([-1,0,0])\n",
    "    q2 = np.array([-0.12,0,0.396])\n",
    "    \n",
    "    a3 = np.array([-1,0,0]) #Not bad here\n",
    "    q3 = np.array([-0.027,0,0.609])\n",
    "    \n",
    "    a4 = np.array([0,0,1]) #this joint also doesn't look bad\n",
    "    q4 = np.array([-0.11,0,0.609])\n",
    "    \n",
    "    a5 = np.array([-1,0,0])  #this doesn't look bad, but hard to tell with this joint\n",
    "    q5 = np.array([-0.11,0,0.692])\n",
    "    \n",
    "    \n",
    "    #For better accuray do this, but not sure how/what function to use to convert from euler to Transformation matrix\n",
    "    #result, M1 = vrep.simxGetObjectPosition(clientID, joint_six_handle, -1, vrep.simx_opmode_blocking)\n",
    "    #M=EulerAnglesTorotationMatrix(M1)\n",
    "    M = np.array([[0, 0, -1, -0.192], [0 ,1 ,0 ,0], [1, 0, 0, 0.692], [0 ,0 ,0 ,1]])\n",
    "    \n",
    "    axis = [a0,a1,a2,a3,a4,a5]\n",
    "    point = [q0,q1,q2,q3,q4,q5]\n",
    "    \n",
    "    screw = [revolute(axis[a],point[a]) for a in range(len(axis))]\n",
    "    \n",
    "    exp = [linalg.expm(brack6(screw[s])*theta[s]) for s in range (len(screw))]\n",
    "    \n",
    "    ex_multiplied = np.identity(4)\n",
    "    for i in exp:\n",
    "        ex_multiplied = ex_multiplied.dot(i)\n",
    "    T = ex_multiplied.dot(M)\n",
    "    return T"
   ]
  },
  {
   "cell_type": "code",
   "execution_count": 89,
   "metadata": {},
   "outputs": [
    {
     "name": "stdout",
     "output_type": "stream",
     "text": [
      "[[-0.06798864  0.09746501 -0.99291395 -0.48645462]\n",
      " [-0.79781598 -0.60288387 -0.0045499   0.12897387]\n",
      " [-0.59905526  0.79185328  0.11874839  0.12276248]\n",
      " [ 0.          0.          0.          1.        ]]\n"
     ]
    }
   ],
   "source": [
    "a = np.array([1,2,3])\n",
    "q = np.array([4,5,6])\n",
    "rev = revolute(a,q)\n",
    "\n",
    "theta = np.array([1,1,1,1,1,1])\n",
    "print (forward_kinematics(theta))"
   ]
  },
  {
   "cell_type": "code",
   "execution_count": 90,
   "metadata": {
    "scrolled": false
   },
   "outputs": [
    {
     "name": "stdout",
     "output_type": "stream",
     "text": [
      "Error in prediction of position for trial 2:  0.5917025839047968\n"
     ]
    }
   ],
   "source": [
    "vrep.simxFinish(-1)\n",
    "\n",
    "# Connect to V-REP (raise exception on failure)\n",
    "clientID = vrep.simxStart('127.0.0.1', 19997, True, True, 5000, 5)\n",
    "if clientID == -1:\n",
    "    raise Exception('Failed connecting to remote API server')\n",
    "    \n",
    "\n",
    "# Start simulation\n",
    "vrep.simxStartSimulation(clientID, vrep.simx_opmode_oneshot)\n",
    "\n",
    "# Wait two seconds\n",
    "time.sleep(2)\n",
    "\n",
    "\n",
    "result, joint_one_handle = vrep.simxGetObjectHandle(clientID, 'UR3_joint1', vrep.simx_opmode_blocking)\n",
    "result, joint_two_handle = vrep.simxGetObjectHandle(clientID, 'UR3_joint2', vrep.simx_opmode_blocking)\n",
    "result, joint_three_handle = vrep.simxGetObjectHandle(clientID, 'UR3_joint3', vrep.simx_opmode_blocking)\n",
    "result, joint_four_handle = vrep.simxGetObjectHandle(clientID, 'UR3_joint4', vrep.simx_opmode_blocking)\n",
    "result, joint_five_handle = vrep.simxGetObjectHandle(clientID, 'UR3_joint5', vrep.simx_opmode_blocking)\n",
    "result, joint_six_handle = vrep.simxGetObjectHandle(clientID, 'UR3_joint6', vrep.simx_opmode_blocking)\n",
    "\n",
    "\n",
    "result, dummyhandle=vrep.simxCreateDummy(clientID,.04,(255,0,0),vrep.simx_opmode_blocking)\n",
    "\n",
    "joint_angles=(-np.pi,0,np.pi/4,0,np.pi/4,0)\n",
    "\n",
    "#joint_angles = np.repeat(theta[trial],6)\n",
    "T = forward_kinematics(joint_angles)\n",
    "R = T[:3,:3]\n",
    "p = T[:3,3]\n",
    "euler = rotationMatrixToEulerAngles(R)\n",
    "\n",
    "vrep.simxSetObjectPosition(clientID,dummyhandle,-1,(p[0],p[1],p[2]),vrep.simx_opmode_oneshot)\n",
    "vrep.simxSetObjectOrientation(clientID,dummyhandle,-1,(euler[0],euler[1],euler[2]),vrep.simx_opmode_oneshot)\n",
    "\n",
    "time.sleep(2)\n",
    "vrep.simxPauseCommunication(clientID,True)\n",
    "vrep.simxSetJointTargetPosition(clientID, joint_one_handle, -np.pi, vrep.simx_opmode_oneshot)\n",
    "vrep.simxSetJointTargetPosition(clientID, joint_two_handle, 0, vrep.simx_opmode_oneshot)\n",
    "vrep.simxSetJointTargetPosition(clientID, joint_three_handle, np.pi/4, vrep.simx_opmode_oneshot)\n",
    "vrep.simxSetJointTargetPosition(clientID, joint_four_handle, 0, vrep.simx_opmode_oneshot)\n",
    "vrep.simxSetJointTargetPosition(clientID, joint_five_handle, np.pi/4, vrep.simx_opmode_oneshot)\n",
    "vrep.simxSetJointTargetPosition(clientID, joint_six_handle, 0, vrep.simx_opmode_oneshot)\n",
    "vrep.simxPauseCommunication(clientID,False)\n",
    "result, pos = vrep.simxGetObjectPosition(clientID, joint_one_handle, -1, vrep.simx_opmode_blocking)\n",
    "\n",
    "error = 0\n",
    "for i in range(3):\n",
    "    error += math.pow(p[i] - pos[i],2)\n",
    "print (\"Error in prediction of position for trial %d: \" %trial ,math.sqrt(error))\n",
    "    \n",
    "if math.sqrt(error) < 0.4:\n",
    "    result, dummygreen=vrep.simxCreateDummy(clientID,.04,(0,255,0),vrep.simx_opmode_blocking)\n",
    "    vrep.simxSetObjectPosition(clientID,dummygreen,joint_one_handle,(p[0],p[1],p[2]),vrep.simx_opmode_oneshot)\n",
    "    vrep.simxSetObjectOrientation(clientID,dummygreen,joint_one_handle,(euler[0],euler[1],euler[2]),vrep.simx_opmode_oneshot)\n",
    "    time.sleep(2)\n",
    "    result = vrep.simxRemoveObject(clientID,dummygreen,vrep.simx_opmode_blocking)\n",
    "else:\n",
    "    time.sleep(2)\n",
    "# Stop simulation\n",
    "vrep.simxStopSimulation(clientID, vrep.simx_opmode_oneshot)\n",
    "\n",
    "# Before closing the connection to V-REP, make sure that the last command sent out had time to arrive. You can guarantee this with (for example):\n",
    "vrep.simxGetPingTime(clientID)\n",
    "\n",
    "# Close the connection to V-REP\n",
    "vrep.simxFinish(clientID)\n"
   ]
  },
  {
   "cell_type": "code",
   "execution_count": null,
   "metadata": {},
   "outputs": [],
   "source": []
  },
  {
   "cell_type": "code",
   "execution_count": null,
   "metadata": {},
   "outputs": [],
   "source": []
  },
  {
   "cell_type": "code",
   "execution_count": null,
   "metadata": {},
   "outputs": [],
   "source": []
  }
 ],
 "metadata": {
  "kernelspec": {
   "display_name": "Python 3",
   "language": "python",
   "name": "python3"
  },
  "language_info": {
   "codemirror_mode": {
    "name": "ipython",
    "version": 3
   },
   "file_extension": ".py",
   "mimetype": "text/x-python",
   "name": "python",
   "nbconvert_exporter": "python",
   "pygments_lexer": "ipython3",
   "version": "3.6.4"
  }
 },
 "nbformat": 4,
 "nbformat_minor": 2
}
