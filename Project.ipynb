{
 "cells": [
  {
   "cell_type": "code",
   "execution_count": 129,
   "metadata": {},
   "outputs": [],
   "source": [
    "import vrep\n",
    "import time\n",
    "import numpy as np\n",
    "from scipy import linalg\n",
    "import math"
   ]
  },
  {
   "cell_type": "markdown",
   "metadata": {},
   "source": [
    "# Set up and move every joint"
   ]
  },
  {
   "cell_type": "markdown",
   "metadata": {},
   "source": [
    "# Forward Kinematics"
   ]
  },
  {
   "cell_type": "code",
   "execution_count": 41,
   "metadata": {},
   "outputs": [],
   "source": [
    "def skew(m):\n",
    "    return np.array([[0 ,-m[2], m[1]],[m[2], 0, -m[0]], [-m[1], m[0], 0]])\n"
   ]
  },
  {
   "cell_type": "code",
   "execution_count": 60,
   "metadata": {
    "collapsed": true
   },
   "outputs": [],
   "source": [
    "def revolute(a,q):\n",
    "    ab = skew(a)\n",
    "    bottom = -1*np.dot(ab,q)\n",
    "    return np.array([[a[0]],[a[1]],[a[2]],[bottom[0]],[bottom[1]],[bottom[2]]])"
   ]
  },
  {
   "cell_type": "code",
   "execution_count": 77,
   "metadata": {},
   "outputs": [],
   "source": [
    "def brack6(a):\n",
    "    ws = a[:3]\n",
    "    vs = a[3:]\n",
    "    wb = skew(ws)\n",
    "    ans = np.array([[wb[0,0], wb[0,1], wb[0,2], vs[0]],[wb[1,0], wb[1,1], wb[1,2], vs[1]],[wb[2,0], wb[2,1], wb[2,2], vs[2]], [0,0,0,0]])\n",
    "    return ans"
   ]
  },
  {
   "cell_type": "code",
   "execution_count": 127,
   "metadata": {
    "collapsed": true
   },
   "outputs": [],
   "source": [
    "# Calculates rotation matrix to euler angles\n",
    "# The result is the same as MATLAB except the order\n",
    "# of the euler angles ( x and z are swapped ).\n",
    "def rotationMatrixToEulerAngles(R) :     \n",
    "    sy = math.sqrt(R[0,0] * R[0,0] +  R[1,0] * R[1,0])\n",
    "     \n",
    "    singular = sy < 1e-6\n",
    " \n",
    "    if  not singular :\n",
    "        x = math.atan2(R[2,1] , R[2,2])\n",
    "        y = math.atan2(-R[2,0], sy)\n",
    "        z = math.atan2(R[1,0], R[0,0])\n",
    "    else :\n",
    "        x = math.atan2(-R[1,2], R[1,1])\n",
    "        y = math.atan2(-R[2,0], sy)\n",
    "        z = 0\n",
    " \n",
    "    return np.array([x, y, z])"
   ]
  },
  {
   "cell_type": "code",
   "execution_count": 148,
   "metadata": {},
   "outputs": [],
   "source": [
    "def forward_kinematics(theta):\n",
    "    \n",
    "    a0 = np.array([0,1,0])\n",
    "    q0 = np.array([0,0,0])\n",
    "    \n",
    "    a1 = np.array([-1,0,0])\n",
    "    q1 = np.array([0,0.152,0])\n",
    "    \n",
    "    a2 = np.array([-1,0,0])\n",
    "    q2 = np.array([-0.12,0.396,0])\n",
    "    \n",
    "    a3 = np.array([-1,0,0])\n",
    "    q3 = np.array([-0.027,0.609,0])\n",
    "    \n",
    "    a4 = np.array([0,-1,0])\n",
    "    q4 = np.array([-0.11,0.609,0])\n",
    "    \n",
    "    a5 = np.array([-1,0,0])\n",
    "    q5 = np.array([-0.11,0.692,0])\n",
    "    \n",
    "    M = np.array([[1, 0, 0, -0.93], [0 ,1 ,0 ,0.745], [0, 0, 1, 0], [0 ,0 ,0 ,1]])\n",
    "    \n",
    "    axis = [a0,a1,a2,a3,a4,a5]\n",
    "    point = [q0,q1,q2,q3,q4,q5]\n",
    "    \n",
    "    screw = [revolute(axis[a],point[a]) for a in range(len(axis))]\n",
    "    \n",
    "    exp = [linalg.expm(brack6(screw[s])*theta[s]) for s in range (len(screw))]\n",
    "    \n",
    "    ex_multiplied = np.identity(4)\n",
    "    for i in exp:\n",
    "        ex_multiplied = ex_multiplied.dot(i)\n",
    "    T = ex_multiplied.dot(M)\n",
    "    return T"
   ]
  },
  {
   "cell_type": "code",
   "execution_count": 144,
   "metadata": {},
   "outputs": [
    {
     "name": "stdout",
     "output_type": "stream",
     "text": [
      "[[ 0.67450028 -0.55844195  0.48289953 -1.03663731]\n",
      " [ 0.70807342  0.67450028 -0.20900097 -0.30483211]\n",
      " [-0.20900097  0.48289953  0.85036853  0.03622021]\n",
      " [ 0.          0.          0.          1.        ]]\n"
     ]
    }
   ],
   "source": [
    "a = np.array([1,2,3])\n",
    "q = np.array([4,5,6])\n",
    "rev = revolute(a,q)\n",
    "\n",
    "theta = np.array([1,1,1,1,1,1])\n",
    "print (forward_kinematics(theta))"
   ]
  },
  {
   "cell_type": "code",
   "execution_count": 149,
   "metadata": {},
   "outputs": [],
   "source": [
    "vrep.simxFinish(-1)\n",
    "\n",
    "# Connect to V-REP (raise exception on failure)\n",
    "clientID = vrep.simxStart('127.0.0.1', 19997, True, True, 5000, 5)\n",
    "if clientID == -1:\n",
    "    raise Exception('Failed connecting to remote API server')\n",
    "\n",
    "# Start simulation\n",
    "vrep.simxStartSimulation(clientID, vrep.simx_opmode_oneshot)\n",
    "\n",
    "# Wait two seconds\n",
    "time.sleep(2)\n",
    "\n",
    "\n",
    "result, joint_one_handle = vrep.simxGetObjectHandle(clientID, 'UR3_joint1', vrep.simx_opmode_blocking)\n",
    "result, joint_two_handle = vrep.simxGetObjectHandle(clientID, 'UR3_joint2', vrep.simx_opmode_blocking)\n",
    "result, joint_three_handle = vrep.simxGetObjectHandle(clientID, 'UR3_joint3', vrep.simx_opmode_blocking)\n",
    "result, joint_four_handle = vrep.simxGetObjectHandle(clientID, 'UR3_joint4', vrep.simx_opmode_blocking)\n",
    "result, joint_five_handle = vrep.simxGetObjectHandle(clientID, 'UR3_joint5', vrep.simx_opmode_blocking)\n",
    "result, joint_six_handle = vrep.simxGetObjectHandle(clientID, 'UR3_joint6', vrep.simx_opmode_blocking)\n",
    "\n",
    "result, dummyhandle=vrep.simxCreateDummy(clientID,.1,None,vrep.simx_opmode_blocking)\n",
    "\n",
    "theta = np.repeat(np.pi/3,6)\n",
    "T = forward_kinematics(theta)\n",
    "R = T[:3,:3]\n",
    "p = T[:3,3]\n",
    "euler = rotationMatrixToEulerAngles(R)\n",
    "\n",
    "vrep.simxSetObjectPosition(clientID,dummyhandle,-1,(p[0],p[1],p[2]),vrep.simx_opmode_blocking)\n",
    "vrep.simxSetObjectOrientation(clientID,dummyhandle,-1,(euler[0],euler[1],euler[2]),vrep.simx_opmode_blocking)\n",
    "\n",
    "theta=np.pi/3\n",
    "vrep.simxPauseCommunication(clientID,True)\n",
    "vrep.simxSetJointTargetPosition(clientID, joint_one_handle, theta, vrep.simx_opmode_oneshot)\n",
    "vrep.simxSetJointTargetPosition(clientID, joint_two_handle, theta, vrep.simx_opmode_oneshot)\n",
    "vrep.simxSetJointTargetPosition(clientID, joint_three_handle, theta, vrep.simx_opmode_oneshot)\n",
    "vrep.simxSetJointTargetPosition(clientID, joint_four_handle, theta, vrep.simx_opmode_oneshot)\n",
    "vrep.simxSetJointTargetPosition(clientID, joint_five_handle, theta, vrep.simx_opmode_oneshot)\n",
    "vrep.simxSetJointTargetPosition(clientID, joint_six_handle, theta, vrep.simx_opmode_oneshot)\n",
    "\n",
    "vrep.simxPauseCommunication(clientID,False)\n",
    "\n",
    "# time.sleep(1)\n",
    "# theta=0\n",
    "# vrep.simxPauseCommunication(clientID,True)\n",
    "# vrep.simxSetJointTargetPosition(clientID, joint_one_handle, theta, vrep.simx_opmode_oneshot)\n",
    "# vrep.simxSetJointTargetPosition(clientID, joint_two_handle, theta, vrep.simx_opmode_oneshot)\n",
    "# vrep.simxSetJointTargetPosition(clientID, joint_three_handle, theta, vrep.simx_opmode_oneshot)\n",
    "# vrep.simxSetJointTargetPosition(clientID, joint_four_handle, theta, vrep.simx_opmode_oneshot)\n",
    "# vrep.simxSetJointTargetPosition(clientID, joint_five_handle, theta, vrep.simx_opmode_oneshot)\n",
    "# vrep.simxSetJointTargetPosition(clientID, joint_six_handle, theta, vrep.simx_opmode_oneshot)\n",
    "# vrep.simxPauseCommunication(clientID,False)\n",
    "# time.sleep(1)\n",
    "\n",
    "# time.sleep(1)\n",
    "# theta=-np.pi/3\n",
    "# vrep.simxPauseCommunication(clientID,True)\n",
    "# vrep.simxSetJointTargetPosition(clientID, joint_one_handle, theta, vrep.simx_opmode_oneshot)\n",
    "# vrep.simxSetJointTargetPosition(clientID, joint_two_handle, theta, vrep.simx_opmode_oneshot)\n",
    "# vrep.simxSetJointTargetPosition(clientID, joint_three_handle, theta, vrep.simx_opmode_oneshot)\n",
    "# vrep.simxSetJointTargetPosition(clientID, joint_four_handle, theta, vrep.simx_opmode_oneshot)\n",
    "# vrep.simxSetJointTargetPosition(clientID, joint_five_handle, theta, vrep.simx_opmode_oneshot)\n",
    "# vrep.simxSetJointTargetPosition(clientID, joint_six_handle, theta, vrep.simx_opmode_oneshot)\n",
    "# vrep.simxPauseCommunication(clientID,False)\n",
    "\n",
    "time.sleep(5)\n",
    "\n",
    "\n",
    "# Stop simulation\n",
    "vrep.simxStopSimulation(clientID, vrep.simx_opmode_oneshot)\n",
    "\n",
    "# Before closing the connection to V-REP, make sure that the last command sent out had time to arrive. You can guarantee this with (for example):\n",
    "vrep.simxGetPingTime(clientID)\n",
    "\n",
    "# Close the connection to V-REP\n",
    "vrep.simxFinish(clientID)\n"
   ]
  }
 ],
 "metadata": {
  "kernelspec": {
   "display_name": "Python 3",
   "language": "python",
   "name": "python3"
  },
  "language_info": {
   "codemirror_mode": {
    "name": "ipython",
    "version": 3
   },
   "file_extension": ".py",
   "mimetype": "text/x-python",
   "name": "python",
   "nbconvert_exporter": "python",
   "pygments_lexer": "ipython3",
   "version": "3.6.3"
  }
 },
 "nbformat": 4,
 "nbformat_minor": 2
}
